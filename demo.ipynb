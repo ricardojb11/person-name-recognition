{
 "cells": [
  {
   "cell_type": "markdown",
   "metadata": {},
   "source": [
    "# Demo"
   ]
  },
  {
   "cell_type": "code",
   "execution_count": 1,
   "metadata": {},
   "outputs": [
    {
     "name": "stderr",
     "output_type": "stream",
     "text": [
      "/home/ubuntu/anaconda3/envs/tensorflow_p36/lib/python3.6/site-packages/h5py/__init__.py:36: FutureWarning: Conversion of the second argument of issubdtype from `float` to `np.floating` is deprecated. In future, it will be treated as `np.float64 == np.dtype(float).type`.\n",
      "  from ._conv import register_converters as _register_converters\n",
      "Using TensorFlow backend.\n"
     ]
    }
   ],
   "source": [
    "from keras.preprocessing.sequence import pad_sequences\n",
    "from keras.layers import LSTM, Dense, Input, Embedding\n",
    "from keras.models import Model\n",
    "from keras.utils import to_categorical\n",
    "from keras.optimizers import Adam\n",
    "from sklearn.model_selection import train_test_split\n",
    "import matplotlib.pyplot as plt\n",
    "import numpy as np"
   ]
  },
  {
   "cell_type": "markdown",
   "metadata": {},
   "source": [
    "# Getting raw input names"
   ]
  },
  {
   "cell_type": "code",
   "execution_count": 2,
   "metadata": {},
   "outputs": [],
   "source": [
    "with open('cleaned_inputs.txt', 'r') as f:\n",
    "    raw_text = f.read()\n",
    "    raw_inputs = raw_text.split('\\n')"
   ]
  },
  {
   "cell_type": "markdown",
   "metadata": {},
   "source": [
    "# Creating dictionary of characters"
   ]
  },
  {
   "cell_type": "code",
   "execution_count": 3,
   "metadata": {},
   "outputs": [
    {
     "name": "stdout",
     "output_type": "stream",
     "text": [
      "{' ': 1, \"'\": 2, '-': 3, '.': 4, 'A': 5, 'B': 6, 'C': 7, 'D': 8, 'E': 9, 'F': 10, 'G': 11, 'H': 12, 'I': 13, 'J': 14, 'K': 15, 'L': 16, 'M': 17, 'N': 18, 'O': 19, 'P': 20, 'Q': 21, 'R': 22, 'S': 23, 'T': 24, 'U': 25, 'V': 26, 'W': 27, 'X': 28, 'Y': 29, 'Z': 30, 'a': 31, 'b': 32, 'c': 33, 'd': 34, 'e': 35, 'f': 36, 'g': 37, 'h': 38, 'i': 39, 'j': 40, 'k': 41, 'l': 42, 'm': 43, 'n': 44, 'o': 45, 'p': 46, 'q': 47, 'r': 48, 's': 49, 't': 50, 'u': 51, 'v': 52, 'w': 53, 'x': 54, 'y': 55, 'z': 56, '<PAD>': 0}\n"
     ]
    }
   ],
   "source": [
    "char2id = dict((c,i) for (i, c) in enumerate(sorted(set(raw_text.replace('\\n', ' '))),1))\n",
    "id2char = dict(enumerate(sorted(set(raw_text.replace('\\n', ' '))),1))\n",
    "char2id['<PAD>'] = 0\n",
    "id2char[0] = '<PAD>'\n",
    "\n",
    "print(char2id)"
   ]
  },
  {
   "cell_type": "code",
   "execution_count": 4,
   "metadata": {
    "scrolled": false
   },
   "outputs": [
    {
     "data": {
      "text/plain": [
       "['Aleksandr Yuryevich Ektov',\n",
       " 'Daniel Horton',\n",
       " 'Tony Lovato',\n",
       " 'John William Gurry',\n",
       " 'Petrus Wilhelmus Arntz']"
      ]
     },
     "execution_count": 4,
     "metadata": {},
     "output_type": "execute_result"
    }
   ],
   "source": [
    "raw_inputs[:5]"
   ]
  },
  {
   "cell_type": "markdown",
   "metadata": {},
   "source": [
    "# Preprocessing inputs for the model"
   ]
  },
  {
   "cell_type": "code",
   "execution_count": 5,
   "metadata": {
    "scrolled": false
   },
   "outputs": [
    {
     "data": {
      "text/plain": [
       "array([[ 5, 42, 35, 41, 49, 31, 44, 34, 48,  1, 29, 51, 48, 55, 35, 52,\n",
       "        39, 33, 38,  1,  9, 41, 50, 45, 52,  0,  0,  0,  0,  0,  0,  0,\n",
       "         0,  0,  0,  0,  0,  0,  0,  0],\n",
       "       [ 8, 31, 44, 39, 35, 42,  1, 12, 45, 48, 50, 45, 44,  0,  0,  0,\n",
       "         0,  0,  0,  0,  0,  0,  0,  0,  0,  0,  0,  0,  0,  0,  0,  0,\n",
       "         0,  0,  0,  0,  0,  0,  0,  0],\n",
       "       [24, 45, 44, 55,  1, 16, 45, 52, 31, 50, 45,  0,  0,  0,  0,  0,\n",
       "         0,  0,  0,  0,  0,  0,  0,  0,  0,  0,  0,  0,  0,  0,  0,  0,\n",
       "         0,  0,  0,  0,  0,  0,  0,  0],\n",
       "       [14, 45, 38, 44,  1, 27, 39, 42, 42, 39, 31, 43,  1, 11, 51, 48,\n",
       "        48, 55,  0,  0,  0,  0,  0,  0,  0,  0,  0,  0,  0,  0,  0,  0,\n",
       "         0,  0,  0,  0,  0,  0,  0,  0],\n",
       "       [20, 35, 50, 48, 51, 49,  1, 27, 39, 42, 38, 35, 42, 43, 51, 49,\n",
       "         1,  5, 48, 44, 50, 56,  0,  0,  0,  0,  0,  0,  0,  0,  0,  0,\n",
       "         0,  0,  0,  0,  0,  0,  0,  0]], dtype=int32)"
      ]
     },
     "execution_count": 5,
     "metadata": {},
     "output_type": "execute_result"
    }
   ],
   "source": [
    "inputs = [[char2id[char] for char in name] for name in raw_inputs]\n",
    "inputs = pad_sequences(inputs, maxlen=40, padding='post')\n",
    "inputs[:5]"
   ]
  },
  {
   "cell_type": "markdown",
   "metadata": {},
   "source": [
    "# Preprocessing labels"
   ]
  },
  {
   "cell_type": "code",
   "execution_count": 6,
   "metadata": {},
   "outputs": [],
   "source": [
    "with open('labels.txt', 'r') as f:\n",
    "    raw_labels = f.read().split('\\n')"
   ]
  },
  {
   "cell_type": "code",
   "execution_count": 7,
   "metadata": {},
   "outputs": [
    {
     "data": {
      "text/plain": [
       "['1.0', '1.0', '1.0', '1.0', '1.0']"
      ]
     },
     "execution_count": 7,
     "metadata": {},
     "output_type": "execute_result"
    }
   ],
   "source": [
    "raw_labels[:5]"
   ]
  },
  {
   "cell_type": "code",
   "execution_count": 8,
   "metadata": {},
   "outputs": [
    {
     "data": {
      "text/plain": [
       "array([[0., 1.],\n",
       "       [0., 1.],\n",
       "       [0., 1.],\n",
       "       ...,\n",
       "       [1., 0.],\n",
       "       [1., 0.],\n",
       "       [1., 0.]], dtype=float32)"
      ]
     },
     "execution_count": 8,
     "metadata": {},
     "output_type": "execute_result"
    }
   ],
   "source": [
    "labels = to_categorical(np.float32(raw_labels))\n",
    "labels"
   ]
  },
  {
   "cell_type": "markdown",
   "metadata": {},
   "source": [
    "# Splitting the data into Training and Testing sets "
   ]
  },
  {
   "cell_type": "code",
   "execution_count": 9,
   "metadata": {},
   "outputs": [],
   "source": [
    "X_train, X_test, y_train, y_test = train_test_split(inputs, labels, test_size=0.2, random_state=42)"
   ]
  },
  {
   "cell_type": "markdown",
   "metadata": {},
   "source": [
    "# LSTM Model"
   ]
  },
  {
   "cell_type": "code",
   "execution_count": 10,
   "metadata": {},
   "outputs": [],
   "source": [
    "input_layer = Input((None,))\n",
    "x = Embedding(len(char2id), 32)(input_layer)\n",
    "x = LSTM(256)(x)\n",
    "x = Dense(512)(x)\n",
    "x = Dense(2, activation='softmax')(x)\n",
    "\n",
    "model = Model(input_layer, x)"
   ]
  },
  {
   "cell_type": "code",
   "execution_count": 11,
   "metadata": {},
   "outputs": [],
   "source": [
    "model.compile(optimizer=Adam(0.001), loss='categorical_crossentropy', metrics=['accuracy'])"
   ]
  },
  {
   "cell_type": "code",
   "execution_count": 12,
   "metadata": {
    "scrolled": true
   },
   "outputs": [
    {
     "name": "stdout",
     "output_type": "stream",
     "text": [
      "Train on 1154352 samples, validate on 288589 samples\n",
      "Epoch 1/5\n",
      "1154352/1154352 [==============================] - 186s 161us/step - loss: 0.4324 - acc: 0.7920 - val_loss: 0.3707 - val_acc: 0.8294\n",
      "Epoch 2/5\n",
      "1154352/1154352 [==============================] - 184s 160us/step - loss: 0.3351 - acc: 0.8501 - val_loss: 0.3064 - val_acc: 0.8652\n",
      "Epoch 3/5\n",
      "1154352/1154352 [==============================] - 185s 160us/step - loss: 0.2804 - acc: 0.8809 - val_loss: 0.2541 - val_acc: 0.8941\n",
      "Epoch 4/5\n",
      "1154352/1154352 [==============================] - 185s 160us/step - loss: 0.2305 - acc: 0.9061 - val_loss: 0.2107 - val_acc: 0.9161\n",
      "Epoch 5/5\n",
      "1154352/1154352 [==============================] - 184s 160us/step - loss: 0.1960 - acc: 0.9232 - val_loss: 0.1808 - val_acc: 0.9303\n"
     ]
    }
   ],
   "source": [
    "history = model.fit(X_train, y_train, batch_size=1024, epochs=5, validation_split=0.2)"
   ]
  },
  {
   "cell_type": "markdown",
   "metadata": {},
   "source": [
    "# Plot Accuracy and Loss curves"
   ]
  },
  {
   "cell_type": "code",
   "execution_count": 13,
   "metadata": {},
   "outputs": [
    {
     "name": "stdout",
     "output_type": "stream",
     "text": [
      "dict_keys(['val_loss', 'val_acc', 'loss', 'acc'])\n"
     ]
    },
    {
     "data": {
      "image/png": "[encoded data removed]",
      "text/plain": [
       "<Figure size 432x288 with 1 Axes>"
      ]
     },
     "metadata": {},
     "output_type": "display_data"
    }
   ],
   "source": [
    "print(history.history.keys())\n",
    "# summarize history for accuracy\n",
    "plt.plot(history.history['acc'])\n",
    "plt.plot(history.history['val_acc'])\n",
    "plt.title('model accuracy')\n",
    "plt.ylabel('accuracy')\n",
    "plt.xlabel('epoch')\n",
    "plt.legend(['train', 'test'], loc='upper left')\n",
    "plt.show()"
   ]
  },
  {
   "cell_type": "code",
   "execution_count": 14,
   "metadata": {},
   "outputs": [
    {
     "data": {
      "image/png": "[encoded data removed]",
      "text/plain": [
       "<Figure size 432x288 with 1 Axes>"
      ]
     },
     "metadata": {},
     "output_type": "display_data"
    }
   ],
   "source": [
    "# summarize history for loss\n",
    "plt.plot(history.history['loss'])\n",
    "plt.plot(history.history['val_loss'])\n",
    "plt.title('model loss')\n",
    "plt.ylabel('loss')\n",
    "plt.xlabel('epoch')\n",
    "plt.legend(['train', 'test'], loc='upper left')\n",
    "plt.show()"
   ]
  },
  {
   "cell_type": "markdown",
   "metadata": {},
   "source": [
    "# Evaluating the model on the testing set "
   ]
  },
  {
   "cell_type": "code",
   "execution_count": 17,
   "metadata": {},
   "outputs": [
    {
     "name": "stdout",
     "output_type": "stream",
     "text": [
      "360736/360736 [==============================] - 16s 45us/step\n",
      "accuracy:  0.9300125299176423\n",
      "loss:  0.18162886663950145\n"
     ]
    }
   ],
   "source": [
    "loss, acc = model.evaluate(X_test, y_test, batch_size=1024)\n",
    "print('accuracy: ',acc)\n",
    "print('loss: ',loss)"
   ]
  },
  {
   "cell_type": "code",
   "execution_count": 22,
   "metadata": {},
   "outputs": [],
   "source": [
    "label_dict = ['Non person name', 'Person Name']"
   ]
  },
  {
   "cell_type": "code",
   "execution_count": 30,
   "metadata": {},
   "outputs": [
    {
     "name": "stdout",
     "output_type": "stream",
     "text": [
      "Ricardo Diaz is a Person Name\n"
     ]
    }
   ],
   "source": [
    "test_string = 'Ricardo Diaz'\n",
    "test_predict = np.expand_dims([char2id[char] for char in test_string],0)\n",
    "test_predict = pad_sequences(test_predict, maxlen=40, padding='post')\n",
    "\n",
    "output = model.predict(test_predict)\n",
    "print(test_string,'is a',label_dict[np.argmax(output)])"
   ]
  },
  {
   "cell_type": "code",
   "execution_count": 29,
   "metadata": {},
   "outputs": [
    {
     "name": "stdout",
     "output_type": "stream",
     "text": [
      "Thiago Galery is a Person Name\n"
     ]
    }
   ],
   "source": [
    "test_string = 'Thiago Galery'\n",
    "test_predict = np.expand_dims([char2id[char] for char in test_string],0)\n",
    "test_predict = pad_sequences(test_predict, maxlen=40, padding='post')\n",
    "\n",
    "output = model.predict(test_predict)\n",
    "print(test_string,'is a',label_dict[np.argmax(output)])"
   ]
  },
  {
   "cell_type": "code",
   "execution_count": 31,
   "metadata": {},
   "outputs": [
    {
     "name": "stdout",
     "output_type": "stream",
     "text": [
      "Jean Claude von Muchausen Gordon-Smith is a Person Name\n"
     ]
    }
   ],
   "source": [
    "test_string = 'Jean Claude von Muchausen Gordon-Smith'\n",
    "test_predict = np.expand_dims([char2id[char] for char in test_string],0)\n",
    "test_predict = pad_sequences(test_predict, maxlen=40, padding='post')\n",
    "\n",
    "output = model.predict(test_predict)\n",
    "print(test_string,'is a',label_dict[np.argmax(output)])"
   ]
  },
  {
   "cell_type": "code",
   "execution_count": 32,
   "metadata": {},
   "outputs": [
    {
     "name": "stdout",
     "output_type": "stream",
     "text": [
      "Kahfsgjgfjsdgjhfgdjs is a Non person name\n"
     ]
    }
   ],
   "source": [
    "test_string = 'Kahfsgjgfjsdgjhfgdjs'\n",
    "test_predict = np.expand_dims([char2id[char] for char in test_string],0)\n",
    "test_predict = pad_sequences(test_predict, maxlen=40, padding='post')\n",
    "\n",
    "output = model.predict(test_predict)\n",
    "print(test_string,'is a',label_dict[np.argmax(output)])"
   ]
  },
  {
   "cell_type": "code",
   "execution_count": 33,
   "metadata": {},
   "outputs": [
    {
     "name": "stdout",
     "output_type": "stream",
     "text": [
      "Book is a Non person name\n"
     ]
    }
   ],
   "source": [
    "test_string = 'Book'\n",
    "test_predict = np.expand_dims([char2id[char] for char in test_string],0)\n",
    "test_predict = pad_sequences(test_predict, maxlen=40, padding='post')\n",
    "\n",
    "output = model.predict(test_predict)\n",
    "print(test_string,'is a',label_dict[np.argmax(output)])"
   ]
  },
  {
   "cell_type": "markdown",
   "metadata": {},
   "source": [
    "# Saving the model"
   ]
  },
  {
   "cell_type": "code",
   "execution_count": 24,
   "metadata": {},
   "outputs": [],
   "source": [
    "model.save('model-v1.h5')"
   ]
  },
  {
   "cell_type": "code",
   "execution_count": null,
   "metadata": {},
   "outputs": [],
   "source": []
  }
 ],
 "metadata": {
  "kernelspec": {
   "display_name": "Python 3",
   "language": "python",
   "name": "python3"
  },
  "language_info": {
   "codemirror_mode": {
    "name": "ipython",
    "version": 3
   },
   "file_extension": ".py",
   "mimetype": "text/x-python",
   "name": "python",
   "nbconvert_exporter": "python",
   "pygments_lexer": "ipython3",
   "version": "3.6.5"
  }
 },
 "nbformat": 4,
 "nbformat_minor": 2
}
